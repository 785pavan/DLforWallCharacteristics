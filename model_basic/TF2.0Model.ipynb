{
 "cells": [
  {
   "cell_type": "code",
   "execution_count": 1,
   "metadata": {},
   "outputs": [
    {
     "data": {
      "text/plain": [
       "'2.0.0-dev20191002'"
      ]
     },
     "execution_count": 1,
     "metadata": {},
     "output_type": "execute_result"
    }
   ],
   "source": [
    "from __future__ import print_function, division, absolute_import, unicode_literals\n",
    "%load_ext tensorboard\n",
    "import tensorflow as tf\n",
    "tf.__version__"
   ]
  },
  {
   "cell_type": "code",
   "execution_count": 2,
   "metadata": {},
   "outputs": [],
   "source": [
    "import os\n",
    "import random\n",
    "import pandas as pd\n",
    "import numpy as np\n",
    "import matplotlib.pyplot as plt\n",
    "%matplotlib inline\n",
    "from tqdm import tqdm_notebook, tnrange\n",
    "from itertools import chain\n",
    "from skimage.io import imread, imshow, concatenate_images\n",
    "from skimage.transform import resize\n",
    "from skimage.morphology import label\n",
    "from sklearn.model_selection import train_test_split"
   ]
  },
  {
   "cell_type": "code",
   "execution_count": 3,
   "metadata": {},
   "outputs": [],
   "source": [
    "from tensorflow.keras.models import Model, load_model\n",
    "from tensorflow.keras.layers import Input, BatchNormalization, Activation, Dense, Dropout\n",
    "from tensorflow.keras.layers import Lambda, RepeatVector, Reshape\n",
    "from tensorflow.keras.layers import Conv2D, Conv2DTranspose\n",
    "from tensorflow.keras.layers import MaxPooling2D, GlobalMaxPool2D\n",
    "from tensorflow.keras.layers import concatenate, add\n",
    "from tensorflow.keras.callbacks import EarlyStopping, ModelCheckpoint, ReduceLROnPlateau, TensorBoard\n",
    "from tensorflow.keras.optimizers import Adam\n",
    "from tensorflow.keras.preprocessing.image import ImageDataGenerator, array_to_img, img_to_array, load_img"
   ]
  },
  {
   "cell_type": "markdown",
   "metadata": {},
   "source": [
    "# Setting perameters"
   ]
  },
  {
   "cell_type": "code",
   "execution_count": 4,
   "metadata": {},
   "outputs": [],
   "source": [
    "im_width = 256\n",
    "im_height = 256\n",
    "path_train = r'D:\\wall_segmentation\\basicModel.001\\unfiltered\\input\\train'\n",
    "#path_test = os.path.join( os.getcwd(), 'input',  'test')\n",
    "classes = ['dark_dense_distribution', 'Elongated_nuclei','light_dense_istribution','light_distribution',\n",
    "           'No_nuclei_with_uniform_texture','No_nuclei_with_unstructured','Red_texture',  'Round_nuclei','Mixed']"
   ]
  },
  {
   "cell_type": "code",
   "execution_count": 5,
   "metadata": {},
   "outputs": [
    {
     "data": {
      "text/plain": [
       "'D:\\\\wall_segmentation\\\\basicModel.001\\\\unfiltered\\\\input\\\\train'"
      ]
     },
     "execution_count": 5,
     "metadata": {},
     "output_type": "execute_result"
    }
   ],
   "source": [
    "path_train"
   ]
  },
  {
   "cell_type": "code",
   "execution_count": 6,
   "metadata": {},
   "outputs": [],
   "source": [
    "palette = np.array([\n",
    "    [128,0,0],\n",
    "    [128,8,0],\n",
    "    [0,0,255],\n",
    "    [0,128,0],\n",
    "    [255,255,0],\n",
    "    [255,105,180],\n",
    "    [255,0,0],\n",
    "    [255,165,0],\n",
    "    [128,128,128]], dtype=np.uint8)\n",
    "palette = np.divide(palette, 255)"
   ]
  },
  {
   "cell_type": "code",
   "execution_count": 7,
   "metadata": {},
   "outputs": [
    {
     "data": {
      "text/plain": [
       "(9, 3)"
      ]
     },
     "execution_count": 7,
     "metadata": {},
     "output_type": "execute_result"
    }
   ],
   "source": [
    "palette.shape"
   ]
  },
  {
   "cell_type": "code",
   "execution_count": 8,
   "metadata": {},
   "outputs": [
    {
     "data": {
      "text/plain": [
       "array([[0.50196078, 0.        , 0.        ],\n",
       "       [0.50196078, 0.03137255, 0.        ],\n",
       "       [0.        , 0.        , 1.        ],\n",
       "       [0.        , 0.50196078, 0.        ],\n",
       "       [1.        , 1.        , 0.        ],\n",
       "       [1.        , 0.41176471, 0.70588235],\n",
       "       [1.        , 0.        , 0.        ],\n",
       "       [1.        , 0.64705882, 0.        ],\n",
       "       [0.50196078, 0.50196078, 0.50196078]])"
      ]
     },
     "execution_count": 8,
     "metadata": {},
     "output_type": "execute_result"
    }
   ],
   "source": [
    "palette"
   ]
  },
  {
   "cell_type": "code",
   "execution_count": 9,
   "metadata": {},
   "outputs": [
    {
     "data": {
      "text/plain": [
       "<tf.Tensor: shape=(), dtype=bool, numpy=True>"
      ]
     },
     "execution_count": 9,
     "metadata": {},
     "output_type": "execute_result"
    }
   ],
   "source": [
    "tf.reduce_all([[[True, True, True]]])"
   ]
  },
  {
   "cell_type": "code",
   "execution_count": 10,
   "metadata": {},
   "outputs": [],
   "source": [
    "def one_hot_encode( mask, palette):\n",
    "        \"\"\"\n",
    "        Converts mask to a one-hot encoding specified by the semantic map.\n",
    "        \"\"\"\n",
    "        one_hot_map = []\n",
    "        for colour in palette:\n",
    "            class_map = tf.reduce_all(tf.equal(mask, colour), axis=-1)\n",
    "            one_hot_map.append(class_map)\n",
    "        one_hot_map = tf.stack(one_hot_map, axis=-1)\n",
    "        one_hot_map = tf.cast(one_hot_map, tf.float32)\n",
    "        \n",
    "        return one_hot_map"
   ]
  },
  {
   "cell_type": "code",
   "execution_count": 11,
   "metadata": {},
   "outputs": [],
   "source": [
    "def get_data(path, palette, train=True):\n",
    "    ids = next(os.walk(path + \"\\images\"))[2]\n",
    "    mask_ids = next(os.walk(path + '\\masks'))[2]\n",
    "    X = np.zeros((len(ids), im_height, im_width, 3), dtype=np.float32)\n",
    "    if train:\n",
    "        y = np.zeros((len(mask_ids), im_height, im_width, palette.shape[0]), dtype=np.float32)\n",
    "        masks = np.zeros((len(mask_ids), im_height, im_width, 3), dtype=np.float32)\n",
    "    print('Getting and resizing images ... ')\n",
    "    for n, id_ in tqdm_notebook(enumerate(ids), total=len(ids)):\n",
    "        img = imread(path + '/images/'+ id_)\n",
    "        x_img = img_to_array(img)\n",
    "        x_img = resize(x_img, (im_height, im_width, 3), mode='constant', preserve_range=True)\n",
    "        X[n] = x_img/255\n",
    "        \n",
    "    for n, id_ in tqdm_notebook(enumerate(mask_ids), total=len(mask_ids)):\n",
    "        if train:\n",
    "            mask = img_to_array(imread(path + '/masks/' + id_ ))\n",
    "            mask = (resize(mask, (im_height, im_width, 3), mode='constant', preserve_range=True))\n",
    "        if train:\n",
    "            y[n] = one_hot_encode(mask/255, palette)\n",
    "            masks[n] = mask/255\n",
    "    print('Done!')\n",
    "    if train:\n",
    "        return X, y , masks\n",
    "    else:\n",
    "        return X"
   ]
  },
  {
   "cell_type": "code",
   "execution_count": 12,
   "metadata": {},
   "outputs": [
    {
     "name": "stdout",
     "output_type": "stream",
     "text": [
      "Getting and resizing images ... \n"
     ]
    },
    {
     "data": {
      "application/vnd.jupyter.widget-view+json": {
       "model_id": "4278b1d3f7be4ce9a000a831363982d5",
       "version_major": 2,
       "version_minor": 0
      },
      "text/plain": [
       "HBox(children=(IntProgress(value=0, max=567), HTML(value='')))"
      ]
     },
     "metadata": {},
     "output_type": "display_data"
    },
    {
     "name": "stdout",
     "output_type": "stream",
     "text": [
      "\n"
     ]
    },
    {
     "data": {
      "application/vnd.jupyter.widget-view+json": {
       "model_id": "c00291cd1005499ebdaf9cbc7f8b0729",
       "version_major": 2,
       "version_minor": 0
      },
      "text/plain": [
       "HBox(children=(IntProgress(value=0, max=567), HTML(value='')))"
      ]
     },
     "metadata": {},
     "output_type": "display_data"
    },
    {
     "name": "stdout",
     "output_type": "stream",
     "text": [
      "\n",
      "Done!\n"
     ]
    }
   ],
   "source": [
    "X, y, masks = get_data(path_train, train=True, palette=palette)"
   ]
  },
  {
   "cell_type": "code",
   "execution_count": null,
   "metadata": {},
   "outputs": [],
   "source": []
  },
  {
   "cell_type": "code",
   "execution_count": null,
   "metadata": {},
   "outputs": [],
   "source": []
  },
  {
   "cell_type": "code",
   "execution_count": 13,
   "metadata": {},
   "outputs": [
    {
     "data": {
      "text/plain": [
       "(567, 256, 256, 9)"
      ]
     },
     "execution_count": 13,
     "metadata": {},
     "output_type": "execute_result"
    }
   ],
   "source": [
    "y.shape"
   ]
  },
  {
   "cell_type": "code",
   "execution_count": 14,
   "metadata": {},
   "outputs": [],
   "source": [
    "X_train, X_valid, y_train, y_valid = train_test_split(X, y, test_size=0.15, random_state=42)"
   ]
  },
  {
   "cell_type": "code",
   "execution_count": 15,
   "metadata": {},
   "outputs": [],
   "source": [
    "X_train, X_test, y_train, y_test = train_test_split(X_train, y_train, test_size=0.15, random_state=42)"
   ]
  },
  {
   "cell_type": "code",
   "execution_count": 16,
   "metadata": {},
   "outputs": [],
   "source": [
    "def plot_img(ix):\n",
    "    fig, ax = plt.subplots(1, 2, figsize=(20, 10))\n",
    "\n",
    "    ax[0].imshow(X_train[ix])\n",
    "    ax[0].set_title('Image')\n",
    "\n",
    "    ax[1].imshow(y_train[ix])\n",
    "    ax[1].set_title('mask');"
   ]
  },
  {
   "cell_type": "code",
   "execution_count": 26,
   "metadata": {},
   "outputs": [
    {
     "ename": "TypeError",
     "evalue": "Invalid shape (256, 256, 9) for image data",
     "output_type": "error",
     "traceback": [
      "\u001b[1;31m---------------------------------------------------------------------------\u001b[0m",
      "\u001b[1;31mTypeError\u001b[0m                                 Traceback (most recent call last)",
      "\u001b[1;32m<ipython-input-26-97c71e319c38>\u001b[0m in \u001b[0;36m<module>\u001b[1;34m\u001b[0m\n\u001b[0;32m      1\u001b[0m \u001b[1;32mfor\u001b[0m \u001b[0mi\u001b[0m \u001b[1;32min\u001b[0m \u001b[0mrange\u001b[0m\u001b[1;33m(\u001b[0m\u001b[1;36m0\u001b[0m\u001b[1;33m,\u001b[0m\u001b[1;36m5\u001b[0m\u001b[1;33m)\u001b[0m\u001b[1;33m:\u001b[0m\u001b[1;33m\u001b[0m\u001b[1;33m\u001b[0m\u001b[0m\n\u001b[0;32m      2\u001b[0m     \u001b[0mix\u001b[0m \u001b[1;33m=\u001b[0m \u001b[0mrandom\u001b[0m\u001b[1;33m.\u001b[0m\u001b[0mrandint\u001b[0m\u001b[1;33m(\u001b[0m\u001b[1;36m0\u001b[0m\u001b[1;33m,\u001b[0m \u001b[0mlen\u001b[0m\u001b[1;33m(\u001b[0m\u001b[0mX_train\u001b[0m\u001b[1;33m)\u001b[0m\u001b[1;33m)\u001b[0m\u001b[1;33m\u001b[0m\u001b[1;33m\u001b[0m\u001b[0m\n\u001b[1;32m----> 3\u001b[1;33m     \u001b[0mplot_img\u001b[0m\u001b[1;33m(\u001b[0m\u001b[0mix\u001b[0m\u001b[1;33m)\u001b[0m\u001b[1;33m\u001b[0m\u001b[1;33m\u001b[0m\u001b[0m\n\u001b[0m",
      "\u001b[1;32m<ipython-input-25-435ee7a0abda>\u001b[0m in \u001b[0;36mplot_img\u001b[1;34m(ix)\u001b[0m\n\u001b[0;32m      5\u001b[0m     \u001b[0max\u001b[0m\u001b[1;33m[\u001b[0m\u001b[1;36m0\u001b[0m\u001b[1;33m]\u001b[0m\u001b[1;33m.\u001b[0m\u001b[0mset_title\u001b[0m\u001b[1;33m(\u001b[0m\u001b[1;34m'Image'\u001b[0m\u001b[1;33m)\u001b[0m\u001b[1;33m\u001b[0m\u001b[1;33m\u001b[0m\u001b[0m\n\u001b[0;32m      6\u001b[0m \u001b[1;33m\u001b[0m\u001b[0m\n\u001b[1;32m----> 7\u001b[1;33m     \u001b[0max\u001b[0m\u001b[1;33m[\u001b[0m\u001b[1;36m1\u001b[0m\u001b[1;33m]\u001b[0m\u001b[1;33m.\u001b[0m\u001b[0mimshow\u001b[0m\u001b[1;33m(\u001b[0m\u001b[0my_train\u001b[0m\u001b[1;33m[\u001b[0m\u001b[0mix\u001b[0m\u001b[1;33m]\u001b[0m\u001b[1;33m)\u001b[0m\u001b[1;33m\u001b[0m\u001b[1;33m\u001b[0m\u001b[0m\n\u001b[0m\u001b[0;32m      8\u001b[0m     \u001b[0max\u001b[0m\u001b[1;33m[\u001b[0m\u001b[1;36m1\u001b[0m\u001b[1;33m]\u001b[0m\u001b[1;33m.\u001b[0m\u001b[0mset_title\u001b[0m\u001b[1;33m(\u001b[0m\u001b[1;34m'mask'\u001b[0m\u001b[1;33m)\u001b[0m\u001b[1;33m;\u001b[0m\u001b[1;33m\u001b[0m\u001b[1;33m\u001b[0m\u001b[0m\n",
      "\u001b[1;32m~\\AppData\\Roaming\\Python\\Python36\\site-packages\\matplotlib\\__init__.py\u001b[0m in \u001b[0;36minner\u001b[1;34m(ax, data, *args, **kwargs)\u001b[0m\n\u001b[0;32m   1599\u001b[0m     \u001b[1;32mdef\u001b[0m \u001b[0minner\u001b[0m\u001b[1;33m(\u001b[0m\u001b[0max\u001b[0m\u001b[1;33m,\u001b[0m \u001b[1;33m*\u001b[0m\u001b[0margs\u001b[0m\u001b[1;33m,\u001b[0m \u001b[0mdata\u001b[0m\u001b[1;33m=\u001b[0m\u001b[1;32mNone\u001b[0m\u001b[1;33m,\u001b[0m \u001b[1;33m**\u001b[0m\u001b[0mkwargs\u001b[0m\u001b[1;33m)\u001b[0m\u001b[1;33m:\u001b[0m\u001b[1;33m\u001b[0m\u001b[1;33m\u001b[0m\u001b[0m\n\u001b[0;32m   1600\u001b[0m         \u001b[1;32mif\u001b[0m \u001b[0mdata\u001b[0m \u001b[1;32mis\u001b[0m \u001b[1;32mNone\u001b[0m\u001b[1;33m:\u001b[0m\u001b[1;33m\u001b[0m\u001b[1;33m\u001b[0m\u001b[0m\n\u001b[1;32m-> 1601\u001b[1;33m             \u001b[1;32mreturn\u001b[0m \u001b[0mfunc\u001b[0m\u001b[1;33m(\u001b[0m\u001b[0max\u001b[0m\u001b[1;33m,\u001b[0m \u001b[1;33m*\u001b[0m\u001b[0mmap\u001b[0m\u001b[1;33m(\u001b[0m\u001b[0msanitize_sequence\u001b[0m\u001b[1;33m,\u001b[0m \u001b[0margs\u001b[0m\u001b[1;33m)\u001b[0m\u001b[1;33m,\u001b[0m \u001b[1;33m**\u001b[0m\u001b[0mkwargs\u001b[0m\u001b[1;33m)\u001b[0m\u001b[1;33m\u001b[0m\u001b[1;33m\u001b[0m\u001b[0m\n\u001b[0m\u001b[0;32m   1602\u001b[0m \u001b[1;33m\u001b[0m\u001b[0m\n\u001b[0;32m   1603\u001b[0m         \u001b[0mbound\u001b[0m \u001b[1;33m=\u001b[0m \u001b[0mnew_sig\u001b[0m\u001b[1;33m.\u001b[0m\u001b[0mbind\u001b[0m\u001b[1;33m(\u001b[0m\u001b[0max\u001b[0m\u001b[1;33m,\u001b[0m \u001b[1;33m*\u001b[0m\u001b[0margs\u001b[0m\u001b[1;33m,\u001b[0m \u001b[1;33m**\u001b[0m\u001b[0mkwargs\u001b[0m\u001b[1;33m)\u001b[0m\u001b[1;33m\u001b[0m\u001b[1;33m\u001b[0m\u001b[0m\n",
      "\u001b[1;32m~\\AppData\\Roaming\\Python\\Python36\\site-packages\\matplotlib\\cbook\\deprecation.py\u001b[0m in \u001b[0;36mwrapper\u001b[1;34m(*args, **kwargs)\u001b[0m\n\u001b[0;32m    367\u001b[0m                 \u001b[1;34mf\"%(removal)s.  If any parameter follows {name!r}, they \"\u001b[0m\u001b[1;33m\u001b[0m\u001b[1;33m\u001b[0m\u001b[0m\n\u001b[0;32m    368\u001b[0m                 f\"should be pass as keyword, not positionally.\")\n\u001b[1;32m--> 369\u001b[1;33m         \u001b[1;32mreturn\u001b[0m \u001b[0mfunc\u001b[0m\u001b[1;33m(\u001b[0m\u001b[1;33m*\u001b[0m\u001b[0margs\u001b[0m\u001b[1;33m,\u001b[0m \u001b[1;33m**\u001b[0m\u001b[0mkwargs\u001b[0m\u001b[1;33m)\u001b[0m\u001b[1;33m\u001b[0m\u001b[1;33m\u001b[0m\u001b[0m\n\u001b[0m\u001b[0;32m    370\u001b[0m \u001b[1;33m\u001b[0m\u001b[0m\n\u001b[0;32m    371\u001b[0m     \u001b[1;32mreturn\u001b[0m \u001b[0mwrapper\u001b[0m\u001b[1;33m\u001b[0m\u001b[1;33m\u001b[0m\u001b[0m\n",
      "\u001b[1;32m~\\AppData\\Roaming\\Python\\Python36\\site-packages\\matplotlib\\cbook\\deprecation.py\u001b[0m in \u001b[0;36mwrapper\u001b[1;34m(*args, **kwargs)\u001b[0m\n\u001b[0;32m    367\u001b[0m                 \u001b[1;34mf\"%(removal)s.  If any parameter follows {name!r}, they \"\u001b[0m\u001b[1;33m\u001b[0m\u001b[1;33m\u001b[0m\u001b[0m\n\u001b[0;32m    368\u001b[0m                 f\"should be pass as keyword, not positionally.\")\n\u001b[1;32m--> 369\u001b[1;33m         \u001b[1;32mreturn\u001b[0m \u001b[0mfunc\u001b[0m\u001b[1;33m(\u001b[0m\u001b[1;33m*\u001b[0m\u001b[0margs\u001b[0m\u001b[1;33m,\u001b[0m \u001b[1;33m**\u001b[0m\u001b[0mkwargs\u001b[0m\u001b[1;33m)\u001b[0m\u001b[1;33m\u001b[0m\u001b[1;33m\u001b[0m\u001b[0m\n\u001b[0m\u001b[0;32m    370\u001b[0m \u001b[1;33m\u001b[0m\u001b[0m\n\u001b[0;32m    371\u001b[0m     \u001b[1;32mreturn\u001b[0m \u001b[0mwrapper\u001b[0m\u001b[1;33m\u001b[0m\u001b[1;33m\u001b[0m\u001b[0m\n",
      "\u001b[1;32m~\\AppData\\Roaming\\Python\\Python36\\site-packages\\matplotlib\\axes\\_axes.py\u001b[0m in \u001b[0;36mimshow\u001b[1;34m(self, X, cmap, norm, aspect, interpolation, alpha, vmin, vmax, origin, extent, shape, filternorm, filterrad, imlim, resample, url, **kwargs)\u001b[0m\n\u001b[0;32m   5669\u001b[0m                               resample=resample, **kwargs)\n\u001b[0;32m   5670\u001b[0m \u001b[1;33m\u001b[0m\u001b[0m\n\u001b[1;32m-> 5671\u001b[1;33m         \u001b[0mim\u001b[0m\u001b[1;33m.\u001b[0m\u001b[0mset_data\u001b[0m\u001b[1;33m(\u001b[0m\u001b[0mX\u001b[0m\u001b[1;33m)\u001b[0m\u001b[1;33m\u001b[0m\u001b[1;33m\u001b[0m\u001b[0m\n\u001b[0m\u001b[0;32m   5672\u001b[0m         \u001b[0mim\u001b[0m\u001b[1;33m.\u001b[0m\u001b[0mset_alpha\u001b[0m\u001b[1;33m(\u001b[0m\u001b[0malpha\u001b[0m\u001b[1;33m)\u001b[0m\u001b[1;33m\u001b[0m\u001b[1;33m\u001b[0m\u001b[0m\n\u001b[0;32m   5673\u001b[0m         \u001b[1;32mif\u001b[0m \u001b[0mim\u001b[0m\u001b[1;33m.\u001b[0m\u001b[0mget_clip_path\u001b[0m\u001b[1;33m(\u001b[0m\u001b[1;33m)\u001b[0m \u001b[1;32mis\u001b[0m \u001b[1;32mNone\u001b[0m\u001b[1;33m:\u001b[0m\u001b[1;33m\u001b[0m\u001b[1;33m\u001b[0m\u001b[0m\n",
      "\u001b[1;32m~\\AppData\\Roaming\\Python\\Python36\\site-packages\\matplotlib\\image.py\u001b[0m in \u001b[0;36mset_data\u001b[1;34m(self, A)\u001b[0m\n\u001b[0;32m    688\u001b[0m                 or self._A.ndim == 3 and self._A.shape[-1] in [3, 4]):\n\u001b[0;32m    689\u001b[0m             raise TypeError(\"Invalid shape {} for image data\"\n\u001b[1;32m--> 690\u001b[1;33m                             .format(self._A.shape))\n\u001b[0m\u001b[0;32m    691\u001b[0m \u001b[1;33m\u001b[0m\u001b[0m\n\u001b[0;32m    692\u001b[0m         \u001b[1;32mif\u001b[0m \u001b[0mself\u001b[0m\u001b[1;33m.\u001b[0m\u001b[0m_A\u001b[0m\u001b[1;33m.\u001b[0m\u001b[0mndim\u001b[0m \u001b[1;33m==\u001b[0m \u001b[1;36m3\u001b[0m\u001b[1;33m:\u001b[0m\u001b[1;33m\u001b[0m\u001b[1;33m\u001b[0m\u001b[0m\n",
      "\u001b[1;31mTypeError\u001b[0m: Invalid shape (256, 256, 9) for image data"
     ]
    },
    {
     "data": {
      "image/png": "[encoded data removed]",
      "text/plain": [
       "<Figure size 1440x720 with 2 Axes>"
      ]
     },
     "metadata": {
      "needs_background": "light"
     },
     "output_type": "display_data"
    }
   ],
   "source": [
    "for i in range(0,5):\n",
    "    ix = random.randint(0, len(X_train))\n",
    "    plot_img(ix)"
   ]
  },
  {
   "cell_type": "code",
   "execution_count": 17,
   "metadata": {},
   "outputs": [],
   "source": [
    "def conv2d_block(input_tensor, n_filters, kernel_size=3, batchnorm=True):\n",
    "    # first layer\n",
    "    x = Conv2D(filters=n_filters, kernel_size=(kernel_size, kernel_size), kernel_initializer=\"he_normal\",\n",
    "               padding=\"same\")(input_tensor)\n",
    "    if batchnorm:\n",
    "        x = BatchNormalization()(x)\n",
    "    x = Activation(\"relu\")(x)\n",
    "    # second layer\n",
    "    x = Conv2D(filters=n_filters, kernel_size=(kernel_size, kernel_size), kernel_initializer=\"he_normal\",\n",
    "               padding=\"same\")(x)\n",
    "    if batchnorm:\n",
    "        x = BatchNormalization()(x)\n",
    "    x = Activation(\"relu\")(x)\n",
    "    return x"
   ]
  },
  {
   "cell_type": "code",
   "execution_count": 18,
   "metadata": {},
   "outputs": [],
   "source": [
    "def get_unet(input_img, n_filters=16, dropout=0.5, batchnorm=True):\n",
    "    # contracting path\n",
    "    \n",
    "    c1 = conv2d_block(input_img, n_filters=n_filters*1, kernel_size=3, batchnorm=batchnorm)\n",
    "    p1 = MaxPooling2D((2, 2)) (c1)\n",
    "    p1 = Dropout(dropout*0.5)(p1)\n",
    "\n",
    "    c2 = conv2d_block(p1, n_filters=n_filters*2, kernel_size=3, batchnorm=batchnorm)\n",
    "    p2 = MaxPooling2D((2, 2)) (c2)\n",
    "    p2 = Dropout(dropout)(p2)\n",
    "\n",
    "    c3 = conv2d_block(p2, n_filters=n_filters*4, kernel_size=3, batchnorm=batchnorm)\n",
    "    p3 = MaxPooling2D((2, 2)) (c3)\n",
    "    p3 = Dropout(dropout)(p3)\n",
    "\n",
    "    c4 = conv2d_block(p3, n_filters=n_filters*8, kernel_size=3, batchnorm=batchnorm)\n",
    "    p4 = MaxPooling2D(pool_size=(2, 2)) (c4)\n",
    "    p4 = Dropout(dropout)(p4)\n",
    "    \n",
    "    c5 = conv2d_block(p4, n_filters=n_filters*16, kernel_size=3, batchnorm=batchnorm)\n",
    "    \n",
    "    # expansive path\n",
    "    u6 = Conv2DTranspose(n_filters*8, (3, 3), strides=(2, 2), padding='same') (c5)\n",
    "    u6 = concatenate([u6, c4])\n",
    "    u6 = Dropout(dropout)(u6)\n",
    "    c6 = conv2d_block(u6, n_filters=n_filters*8, kernel_size=3, batchnorm=batchnorm)\n",
    "\n",
    "    u7 = Conv2DTranspose(n_filters*4, (3, 3), strides=(2, 2), padding='same') (c6)\n",
    "    u7 = concatenate([u7, c3])\n",
    "    u7 = Dropout(dropout)(u7)\n",
    "    c7 = conv2d_block(u7, n_filters=n_filters*4, kernel_size=3, batchnorm=batchnorm)\n",
    "\n",
    "    u8 = Conv2DTranspose(n_filters*2, (3, 3), strides=(2, 2), padding='same') (c7)\n",
    "    u8 = concatenate([u8, c2])\n",
    "    u8 = Dropout(dropout)(u8)\n",
    "    c8 = conv2d_block(u8, n_filters=n_filters*2, kernel_size=3, batchnorm=batchnorm)\n",
    "\n",
    "    u9 = Conv2DTranspose(n_filters*1, (3, 3), strides=(2, 2), padding='same') (c8)\n",
    "    u9 = concatenate([u9, c1], axis=3)\n",
    "    u9 = Dropout(dropout)(u9)\n",
    "    c9 = conv2d_block(u9, n_filters=n_filters*1, kernel_size=3, batchnorm=batchnorm)\n",
    "    \n",
    "    outputs = Conv2D(9, (1, 1), activation='softmax') (c9)\n",
    "    model = Model(inputs=[input_img], outputs=[outputs])\n",
    "    return model"
   ]
  },
  {
   "cell_type": "code",
   "execution_count": 19,
   "metadata": {},
   "outputs": [],
   "source": [
    "def dice_coef(y_true, y_pred):\n",
    "    smooth = 1e-5\n",
    "    \n",
    "    y_true = tf.round(tf.reshape(y_true, [-1]))\n",
    "    y_pred = tf.round(tf.reshape(y_pred, [-1]))\n",
    "    \n",
    "    isct = tf.reduce_sum(y_true * y_pred)\n",
    "    \n",
    "    return 2 * isct / (tf.reduce_sum(y_true) + tf.reduce_sum(y_pred))\n",
    "def dice_coef_loss(y_true, y_pred):\n",
    "    return 1 - dice_coef(y_true, y_pred)"
   ]
  },
  {
   "cell_type": "code",
   "execution_count": 20,
   "metadata": {},
   "outputs": [
    {
     "name": "stdout",
     "output_type": "stream",
     "text": [
      "Model: \"model\"\n",
      "__________________________________________________________________________________________________\n",
      "Layer (type)                    Output Shape         Param #     Connected to                     \n",
      "==================================================================================================\n",
      "img (InputLayer)                [(None, 256, 256, 3) 0                                            \n",
      "__________________________________________________________________________________________________\n",
      "conv2d (Conv2D)                 (None, 256, 256, 16) 448         img[0][0]                        \n",
      "__________________________________________________________________________________________________\n",
      "batch_normalization (BatchNorma (None, 256, 256, 16) 64          conv2d[0][0]                     \n",
      "__________________________________________________________________________________________________\n",
      "activation (Activation)         (None, 256, 256, 16) 0           batch_normalization[0][0]        \n",
      "__________________________________________________________________________________________________\n",
      "conv2d_1 (Conv2D)               (None, 256, 256, 16) 2320        activation[0][0]                 \n",
      "__________________________________________________________________________________________________\n",
      "batch_normalization_1 (BatchNor (None, 256, 256, 16) 64          conv2d_1[0][0]                   \n",
      "__________________________________________________________________________________________________\n",
      "activation_1 (Activation)       (None, 256, 256, 16) 0           batch_normalization_1[0][0]      \n",
      "__________________________________________________________________________________________________\n",
      "max_pooling2d (MaxPooling2D)    (None, 128, 128, 16) 0           activation_1[0][0]               \n",
      "__________________________________________________________________________________________________\n",
      "dropout (Dropout)               (None, 128, 128, 16) 0           max_pooling2d[0][0]              \n",
      "__________________________________________________________________________________________________\n",
      "conv2d_2 (Conv2D)               (None, 128, 128, 32) 4640        dropout[0][0]                    \n",
      "__________________________________________________________________________________________________\n",
      "batch_normalization_2 (BatchNor (None, 128, 128, 32) 128         conv2d_2[0][0]                   \n",
      "__________________________________________________________________________________________________\n",
      "activation_2 (Activation)       (None, 128, 128, 32) 0           batch_normalization_2[0][0]      \n",
      "__________________________________________________________________________________________________\n",
      "conv2d_3 (Conv2D)               (None, 128, 128, 32) 9248        activation_2[0][0]               \n",
      "__________________________________________________________________________________________________\n",
      "batch_normalization_3 (BatchNor (None, 128, 128, 32) 128         conv2d_3[0][0]                   \n",
      "__________________________________________________________________________________________________\n",
      "activation_3 (Activation)       (None, 128, 128, 32) 0           batch_normalization_3[0][0]      \n",
      "__________________________________________________________________________________________________\n",
      "max_pooling2d_1 (MaxPooling2D)  (None, 64, 64, 32)   0           activation_3[0][0]               \n",
      "__________________________________________________________________________________________________\n",
      "dropout_1 (Dropout)             (None, 64, 64, 32)   0           max_pooling2d_1[0][0]            \n",
      "__________________________________________________________________________________________________\n",
      "conv2d_4 (Conv2D)               (None, 64, 64, 64)   18496       dropout_1[0][0]                  \n",
      "__________________________________________________________________________________________________\n",
      "batch_normalization_4 (BatchNor (None, 64, 64, 64)   256         conv2d_4[0][0]                   \n",
      "__________________________________________________________________________________________________\n",
      "activation_4 (Activation)       (None, 64, 64, 64)   0           batch_normalization_4[0][0]      \n",
      "__________________________________________________________________________________________________\n",
      "conv2d_5 (Conv2D)               (None, 64, 64, 64)   36928       activation_4[0][0]               \n",
      "__________________________________________________________________________________________________\n",
      "batch_normalization_5 (BatchNor (None, 64, 64, 64)   256         conv2d_5[0][0]                   \n",
      "__________________________________________________________________________________________________\n",
      "activation_5 (Activation)       (None, 64, 64, 64)   0           batch_normalization_5[0][0]      \n",
      "__________________________________________________________________________________________________\n",
      "max_pooling2d_2 (MaxPooling2D)  (None, 32, 32, 64)   0           activation_5[0][0]               \n",
      "__________________________________________________________________________________________________\n",
      "dropout_2 (Dropout)             (None, 32, 32, 64)   0           max_pooling2d_2[0][0]            \n",
      "__________________________________________________________________________________________________\n",
      "conv2d_6 (Conv2D)               (None, 32, 32, 128)  73856       dropout_2[0][0]                  \n",
      "__________________________________________________________________________________________________\n",
      "batch_normalization_6 (BatchNor (None, 32, 32, 128)  512         conv2d_6[0][0]                   \n",
      "__________________________________________________________________________________________________\n",
      "activation_6 (Activation)       (None, 32, 32, 128)  0           batch_normalization_6[0][0]      \n",
      "__________________________________________________________________________________________________\n",
      "conv2d_7 (Conv2D)               (None, 32, 32, 128)  147584      activation_6[0][0]               \n",
      "__________________________________________________________________________________________________\n",
      "batch_normalization_7 (BatchNor (None, 32, 32, 128)  512         conv2d_7[0][0]                   \n",
      "__________________________________________________________________________________________________\n",
      "activation_7 (Activation)       (None, 32, 32, 128)  0           batch_normalization_7[0][0]      \n",
      "__________________________________________________________________________________________________\n",
      "max_pooling2d_3 (MaxPooling2D)  (None, 16, 16, 128)  0           activation_7[0][0]               \n",
      "__________________________________________________________________________________________________\n",
      "dropout_3 (Dropout)             (None, 16, 16, 128)  0           max_pooling2d_3[0][0]            \n",
      "__________________________________________________________________________________________________\n",
      "conv2d_8 (Conv2D)               (None, 16, 16, 256)  295168      dropout_3[0][0]                  \n",
      "__________________________________________________________________________________________________\n",
      "batch_normalization_8 (BatchNor (None, 16, 16, 256)  1024        conv2d_8[0][0]                   \n",
      "__________________________________________________________________________________________________\n",
      "activation_8 (Activation)       (None, 16, 16, 256)  0           batch_normalization_8[0][0]      \n",
      "__________________________________________________________________________________________________\n",
      "conv2d_9 (Conv2D)               (None, 16, 16, 256)  590080      activation_8[0][0]               \n",
      "__________________________________________________________________________________________________\n",
      "batch_normalization_9 (BatchNor (None, 16, 16, 256)  1024        conv2d_9[0][0]                   \n",
      "__________________________________________________________________________________________________\n",
      "activation_9 (Activation)       (None, 16, 16, 256)  0           batch_normalization_9[0][0]      \n",
      "__________________________________________________________________________________________________\n",
      "conv2d_transpose (Conv2DTranspo (None, 32, 32, 128)  295040      activation_9[0][0]               \n"
     ]
    },
    {
     "name": "stdout",
     "output_type": "stream",
     "text": [
      "__________________________________________________________________________________________________\n",
      "concatenate (Concatenate)       (None, 32, 32, 256)  0           conv2d_transpose[0][0]           \n",
      "                                                                 activation_7[0][0]               \n",
      "__________________________________________________________________________________________________\n",
      "dropout_4 (Dropout)             (None, 32, 32, 256)  0           concatenate[0][0]                \n",
      "__________________________________________________________________________________________________\n",
      "conv2d_10 (Conv2D)              (None, 32, 32, 128)  295040      dropout_4[0][0]                  \n",
      "__________________________________________________________________________________________________\n",
      "batch_normalization_10 (BatchNo (None, 32, 32, 128)  512         conv2d_10[0][0]                  \n",
      "__________________________________________________________________________________________________\n",
      "activation_10 (Activation)      (None, 32, 32, 128)  0           batch_normalization_10[0][0]     \n",
      "__________________________________________________________________________________________________\n",
      "conv2d_11 (Conv2D)              (None, 32, 32, 128)  147584      activation_10[0][0]              \n",
      "__________________________________________________________________________________________________\n",
      "batch_normalization_11 (BatchNo (None, 32, 32, 128)  512         conv2d_11[0][0]                  \n",
      "__________________________________________________________________________________________________\n",
      "activation_11 (Activation)      (None, 32, 32, 128)  0           batch_normalization_11[0][0]     \n",
      "__________________________________________________________________________________________________\n",
      "conv2d_transpose_1 (Conv2DTrans (None, 64, 64, 64)   73792       activation_11[0][0]              \n",
      "__________________________________________________________________________________________________\n",
      "concatenate_1 (Concatenate)     (None, 64, 64, 128)  0           conv2d_transpose_1[0][0]         \n",
      "                                                                 activation_5[0][0]               \n",
      "__________________________________________________________________________________________________\n",
      "dropout_5 (Dropout)             (None, 64, 64, 128)  0           concatenate_1[0][0]              \n",
      "__________________________________________________________________________________________________\n",
      "conv2d_12 (Conv2D)              (None, 64, 64, 64)   73792       dropout_5[0][0]                  \n",
      "__________________________________________________________________________________________________\n",
      "batch_normalization_12 (BatchNo (None, 64, 64, 64)   256         conv2d_12[0][0]                  \n",
      "__________________________________________________________________________________________________\n",
      "activation_12 (Activation)      (None, 64, 64, 64)   0           batch_normalization_12[0][0]     \n",
      "__________________________________________________________________________________________________\n",
      "conv2d_13 (Conv2D)              (None, 64, 64, 64)   36928       activation_12[0][0]              \n",
      "__________________________________________________________________________________________________\n",
      "batch_normalization_13 (BatchNo (None, 64, 64, 64)   256         conv2d_13[0][0]                  \n",
      "__________________________________________________________________________________________________\n",
      "activation_13 (Activation)      (None, 64, 64, 64)   0           batch_normalization_13[0][0]     \n",
      "__________________________________________________________________________________________________\n",
      "conv2d_transpose_2 (Conv2DTrans (None, 128, 128, 32) 18464       activation_13[0][0]              \n",
      "__________________________________________________________________________________________________\n",
      "concatenate_2 (Concatenate)     (None, 128, 128, 64) 0           conv2d_transpose_2[0][0]         \n",
      "                                                                 activation_3[0][0]               \n",
      "__________________________________________________________________________________________________\n",
      "dropout_6 (Dropout)             (None, 128, 128, 64) 0           concatenate_2[0][0]              \n",
      "__________________________________________________________________________________________________\n",
      "conv2d_14 (Conv2D)              (None, 128, 128, 32) 18464       dropout_6[0][0]                  \n",
      "__________________________________________________________________________________________________\n",
      "batch_normalization_14 (BatchNo (None, 128, 128, 32) 128         conv2d_14[0][0]                  \n",
      "__________________________________________________________________________________________________\n",
      "activation_14 (Activation)      (None, 128, 128, 32) 0           batch_normalization_14[0][0]     \n",
      "__________________________________________________________________________________________________\n",
      "conv2d_15 (Conv2D)              (None, 128, 128, 32) 9248        activation_14[0][0]              \n",
      "__________________________________________________________________________________________________\n",
      "batch_normalization_15 (BatchNo (None, 128, 128, 32) 128         conv2d_15[0][0]                  \n",
      "__________________________________________________________________________________________________\n",
      "activation_15 (Activation)      (None, 128, 128, 32) 0           batch_normalization_15[0][0]     \n",
      "__________________________________________________________________________________________________\n",
      "conv2d_transpose_3 (Conv2DTrans (None, 256, 256, 16) 4624        activation_15[0][0]              \n",
      "__________________________________________________________________________________________________\n",
      "concatenate_3 (Concatenate)     (None, 256, 256, 32) 0           conv2d_transpose_3[0][0]         \n",
      "                                                                 activation_1[0][0]               \n",
      "__________________________________________________________________________________________________\n",
      "dropout_7 (Dropout)             (None, 256, 256, 32) 0           concatenate_3[0][0]              \n",
      "__________________________________________________________________________________________________\n",
      "conv2d_16 (Conv2D)              (None, 256, 256, 16) 4624        dropout_7[0][0]                  \n",
      "__________________________________________________________________________________________________\n",
      "batch_normalization_16 (BatchNo (None, 256, 256, 16) 64          conv2d_16[0][0]                  \n",
      "__________________________________________________________________________________________________\n",
      "activation_16 (Activation)      (None, 256, 256, 16) 0           batch_normalization_16[0][0]     \n",
      "__________________________________________________________________________________________________\n",
      "conv2d_17 (Conv2D)              (None, 256, 256, 16) 2320        activation_16[0][0]              \n",
      "__________________________________________________________________________________________________\n",
      "batch_normalization_17 (BatchNo (None, 256, 256, 16) 64          conv2d_17[0][0]                  \n",
      "__________________________________________________________________________________________________\n",
      "activation_17 (Activation)      (None, 256, 256, 16) 0           batch_normalization_17[0][0]     \n",
      "__________________________________________________________________________________________________\n",
      "conv2d_18 (Conv2D)              (None, 256, 256, 9)  153         activation_17[0][0]              \n",
      "==================================================================================================\n",
      "Total params: 2,164,729\n",
      "Trainable params: 2,161,785\n",
      "Non-trainable params: 2,944\n",
      "__________________________________________________________________________________________________\n"
     ]
    }
   ],
   "source": [
    "input_img = Input((im_height, im_width, 3), name='img')\n",
    "model = get_unet(input_img, n_filters=16, dropout=0.05, batchnorm=True)\n",
    "\n",
    "model.compile(optimizer=Adam(), loss='categorical_crossentropy', metrics=[dice_coef, 'acc'])\n",
    "model.summary()"
   ]
  },
  {
   "cell_type": "code",
   "execution_count": 21,
   "metadata": {},
   "outputs": [],
   "source": [
    "import datetime\n",
    "logdir = os.path.join(\"logs\", datetime.datetime.now().strftime(\"%Y%m%d-%H%M%S\"))\n",
    "callbacks = [\n",
    "    EarlyStopping( patience=10, verbose=1),\n",
    "    ReduceLROnPlateau( factor=0.1, patience=3, min_lr=0.00001, verbose=1),\n",
    "    ModelCheckpoint('model-unet-basic_tf2.h5', verbose=1, save_best_only=True, save_weights_only=True),\n",
    "    TensorBoard(logdir, histogram_freq=1)\n",
    "]"
   ]
  },
  {
   "cell_type": "code",
   "execution_count": 22,
   "metadata": {
    "scrolled": true
   },
   "outputs": [
    {
     "name": "stdout",
     "output_type": "stream",
     "text": [
      "Train on 408 samples, validate on 86 samples\n",
      "Epoch 1/100\n",
      "384/408 [===========================>..] - ETA: 6:35 - loss: 0.6200 - dice_coef: 0.0036 - acc: 0.465 - ETA: 5:17 - loss: 0.7190 - dice_coef: 0.0018 - acc: 0.420 - ETA: 4:31 - loss: 0.6416 - dice_coef: 0.0012 - acc: 0.409 - ETA: 3:36 - loss: 0.6404 - dice_coef: 9.0289e-04 - acc: 0.391 - ETA: 2:58 - loss: 0.6204 - dice_coef: 7.2371e-04 - acc: 0.383 - ETA: 2:28 - loss: 0.6089 - dice_coef: 6.9642e-04 - acc: 0.381 - ETA: 2:02 - loss: 0.5989 - dice_coef: 7.1147e-04 - acc: 0.379 - ETA: 1:38 - loss: 0.6251 - dice_coef: 9.1925e-04 - acc: 0.367 - ETA: 1:15 - loss: 0.6025 - dice_coef: 0.0017 - acc: 0.3697    - ETA: 54s - loss: 0.5880 - dice_coef: 0.0024 - acc: 0.369 - ETA: 34s - loss: 0.5704 - dice_coef: 0.0035 - acc: 0.37 - ETA: 14s - loss: 0.5621 - dice_coef: 0.0045 - acc: 0.3713\n",
      "Epoch 00001: val_loss improved from inf to 0.40558, saving model to model-unet-basic_tf2.h5\n",
      "408/408 [==============================] - 252s 618ms/sample - loss: 0.5498 - dice_coef: 0.0072 - acc: 0.3728 - val_loss: 0.4056 - val_dice_coef: 0.0000e+00 - val_acc: 0.4541\n",
      "Epoch 2/100\n",
      "384/408 [===========================>..] - ETA: 3:23 - loss: 0.5528 - dice_coef: 0.0179 - acc: 0.360 - ETA: 3:04 - loss: 0.4304 - dice_coef: 0.0111 - acc: 0.380 - ETA: 2:45 - loss: 0.4543 - dice_coef: 0.0137 - acc: 0.378 - ETA: 2:30 - loss: 0.4384 - dice_coef: 0.0141 - acc: 0.387 - ETA: 2:12 - loss: 0.4218 - dice_coef: 0.0201 - acc: 0.392 - ETA: 1:55 - loss: 0.4429 - dice_coef: 0.0193 - acc: 0.397 - ETA: 1:38 - loss: 0.4163 - dice_coef: 0.0235 - acc: 0.400 - ETA: 1:21 - loss: 0.4109 - dice_coef: 0.0241 - acc: 0.399 - ETA: 1:04 - loss: 0.4281 - dice_coef: 0.0244 - acc: 0.401 - ETA: 47s - loss: 0.4365 - dice_coef: 0.0238 - acc: 0.400 - ETA: 30s - loss: 0.4382 - dice_coef: 0.0227 - acc: 0.40 - ETA: 12s - loss: 0.4383 - dice_coef: 0.0230 - acc: 0.4079\n",
      "Epoch 00002: val_loss did not improve from 0.40558\n",
      "408/408 [==============================] - 225s 552ms/sample - loss: 0.4300 - dice_coef: 0.0230 - acc: 0.4070 - val_loss: 0.5035 - val_dice_coef: 0.0058 - val_acc: 0.2771\n",
      "Epoch 3/100\n",
      "384/408 [===========================>..] - ETA: 3:12 - loss: 0.4048 - dice_coef: 0.0153 - acc: 0.412 - ETA: 3:10 - loss: 0.2905 - dice_coef: 0.0261 - acc: 0.412 - ETA: 2:51 - loss: 0.3365 - dice_coef: 0.0255 - acc: 0.414 - ETA: 2:33 - loss: 0.3748 - dice_coef: 0.0219 - acc: 0.416 - ETA: 2:18 - loss: 0.3560 - dice_coef: 0.0217 - acc: 0.416 - ETA: 2:00 - loss: 0.3875 - dice_coef: 0.0209 - acc: 0.426 - ETA: 1:42 - loss: 0.3697 - dice_coef: 0.0227 - acc: 0.429 - ETA: 1:25 - loss: 0.3651 - dice_coef: 0.0272 - acc: 0.432 - ETA: 1:07 - loss: 0.3634 - dice_coef: 0.0276 - acc: 0.433 - ETA: 49s - loss: 0.3711 - dice_coef: 0.0285 - acc: 0.435 - ETA: 31s - loss: 0.3778 - dice_coef: 0.0287 - acc: 0.43 - ETA: 13s - loss: 0.3838 - dice_coef: 0.0303 - acc: 0.4372\n",
      "Epoch 00003: val_loss did not improve from 0.40558\n",
      "408/408 [==============================] - 235s 577ms/sample - loss: 0.3785 - dice_coef: 0.0389 - acc: 0.4403 - val_loss: 0.5415 - val_dice_coef: 0.0618 - val_acc: 0.1924\n",
      "Epoch 4/100\n",
      "384/408 [===========================>..] - ETA: 3:21 - loss: 0.3946 - dice_coef: 0.1694 - acc: 0.458 - ETA: 3:10 - loss: 0.3125 - dice_coef: 0.2739 - acc: 0.467 - ETA: 2:51 - loss: 0.3077 - dice_coef: 0.2782 - acc: 0.471 - ETA: 2:33 - loss: 0.3070 - dice_coef: 0.2958 - acc: 0.480 - ETA: 2:17 - loss: 0.3027 - dice_coef: 0.2994 - acc: 0.484 - ETA: 1:59 - loss: 0.2959 - dice_coef: 0.2990 - acc: 0.485 - ETA: 1:41 - loss: 0.3050 - dice_coef: 0.2909 - acc: 0.488 - ETA: 1:24 - loss: 0.2965 - dice_coef: 0.3037 - acc: 0.488 - ETA: 1:07 - loss: 0.2901 - dice_coef: 0.3013 - acc: 0.485 - ETA: 49s - loss: 0.2867 - dice_coef: 0.3051 - acc: 0.489 - ETA: 31s - loss: 0.2821 - dice_coef: 0.3170 - acc: 0.48 - ETA: 13s - loss: 0.2979 - dice_coef: 0.3161 - acc: 0.4877\n",
      "Epoch 00004: ReduceLROnPlateau reducing learning rate to 0.00010000000474974513.\n",
      "\n",
      "Epoch 00004: val_loss did not improve from 0.40558\n",
      "408/408 [==============================] - 236s 579ms/sample - loss: 0.2956 - dice_coef: 0.3289 - acc: 0.4893 - val_loss: 0.9813 - val_dice_coef: 0.1971 - val_acc: 0.1328\n",
      "Epoch 5/100\n",
      "384/408 [===========================>..] - ETA: 3:24 - loss: 0.3884 - dice_coef: 0.2768 - acc: 0.470 - ETA: 3:13 - loss: 0.3596 - dice_coef: 0.3778 - acc: 0.501 - ETA: 2:53 - loss: 0.3630 - dice_coef: 0.3968 - acc: 0.496 - ETA: 2:34 - loss: 0.3205 - dice_coef: 0.4548 - acc: 0.496 - ETA: 2:17 - loss: 0.3097 - dice_coef: 0.4665 - acc: 0.486 - ETA: 2:00 - loss: 0.2912 - dice_coef: 0.5043 - acc: 0.490 - ETA: 1:42 - loss: 0.2840 - dice_coef: 0.4753 - acc: 0.479 - ETA: 1:24 - loss: 0.2757 - dice_coef: 0.4744 - acc: 0.480 - ETA: 1:06 - loss: 0.2753 - dice_coef: 0.4701 - acc: 0.482 - ETA: 48s - loss: 0.2736 - dice_coef: 0.4708 - acc: 0.483 - ETA: 31s - loss: 0.2754 - dice_coef: 0.4643 - acc: 0.48 - ETA: 13s - loss: 0.2746 - dice_coef: 0.4666 - acc: 0.4856\n",
      "Epoch 00005: val_loss improved from 0.40558 to 0.40051, saving model to model-unet-basic_tf2.h5\n",
      "408/408 [==============================] - 236s 579ms/sample - loss: 0.2671 - dice_coef: 0.4816 - acc: 0.4846 - val_loss: 0.4005 - val_dice_coef: 0.0000e+00 - val_acc: 0.7356\n",
      "Epoch 6/100\n",
      "384/408 [===========================>..] - ETA: 3:35 - loss: 0.1744 - dice_coef: 0.4243 - acc: 0.429 - ETA: 3:19 - loss: 0.1870 - dice_coef: 0.4834 - acc: 0.446 - ETA: 2:58 - loss: 0.2064 - dice_coef: 0.5097 - acc: 0.461 - ETA: 2:38 - loss: 0.2254 - dice_coef: 0.4722 - acc: 0.456 - ETA: 2:21 - loss: 0.2273 - dice_coef: 0.4708 - acc: 0.456 - ETA: 2:03 - loss: 0.2340 - dice_coef: 0.4600 - acc: 0.460 - ETA: 1:44 - loss: 0.2375 - dice_coef: 0.4573 - acc: 0.462 - ETA: 1:26 - loss: 0.2476 - dice_coef: 0.4601 - acc: 0.464 - ETA: 1:07 - loss: 0.2582 - dice_coef: 0.4529 - acc: 0.473 - ETA: 49s - loss: 0.2676 - dice_coef: 0.4471 - acc: 0.479 - ETA: 31s - loss: 0.2623 - dice_coef: 0.4561 - acc: 0.48 - ETA: 13s - loss: 0.2587 - dice_coef: 0.4469 - acc: 0.4823\n",
      "Epoch 00006: val_loss did not improve from 0.40051\n",
      "408/408 [==============================] - 239s 587ms/sample - loss: 0.2659 - dice_coef: 0.4395 - acc: 0.4849 - val_loss: 0.4554 - val_dice_coef: 0.0000e+00 - val_acc: 0.2292\n",
      "Epoch 7/100\n",
      "384/408 [===========================>..] - ETA: 3:26 - loss: 0.2766 - dice_coef: 0.3995 - acc: 0.493 - ETA: 3:15 - loss: 0.2563 - dice_coef: 0.4326 - acc: 0.485 - ETA: 2:55 - loss: 0.2368 - dice_coef: 0.4911 - acc: 0.485 - ETA: 2:37 - loss: 0.2718 - dice_coef: 0.4709 - acc: 0.485 - ETA: 2:18 - loss: 0.2604 - dice_coef: 0.4899 - acc: 0.482 - ETA: 2:01 - loss: 0.2665 - dice_coef: 0.4813 - acc: 0.477 - ETA: 1:43 - loss: 0.2688 - dice_coef: 0.4673 - acc: 0.479 - ETA: 1:25 - loss: 0.2567 - dice_coef: 0.4993 - acc: 0.485 - ETA: 1:07 - loss: 0.2604 - dice_coef: 0.4979 - acc: 0.490 - ETA: 49s - loss: 0.2581 - dice_coef: 0.4966 - acc: 0.491 - ETA: 31s - loss: 0.2589 - dice_coef: 0.4957 - acc: 0.49 - ETA: 13s - loss: 0.2538 - dice_coef: 0.5039 - acc: 0.4927\n",
      "Epoch 00007: val_loss did not improve from 0.40051\n",
      "408/408 [==============================] - 242s 594ms/sample - loss: 0.2448 - dice_coef: 0.5189 - acc: 0.4902 - val_loss: 0.5024 - val_dice_coef: 0.0000e+00 - val_acc: 0.3582\n",
      "Epoch 8/100\n",
      "384/408 [===========================>..] - ETA: 3:42 - loss: 0.1431 - dice_coef: 0.6756 - acc: 0.461 - ETA: 3:23 - loss: 0.1346 - dice_coef: 0.7120 - acc: 0.479 - ETA: 2:59 - loss: 0.1703 - dice_coef: 0.6736 - acc: 0.497 - ETA: 2:39 - loss: 0.2027 - dice_coef: 0.6173 - acc: 0.503 - ETA: 2:21 - loss: 0.2113 - dice_coef: 0.6008 - acc: 0.505 - ETA: 2:03 - loss: 0.2178 - dice_coef: 0.5646 - acc: 0.500 - ETA: 1:44 - loss: 0.2203 - dice_coef: 0.5614 - acc: 0.498 - ETA: 1:25 - loss: 0.2190 - dice_coef: 0.5739 - acc: 0.498 - ETA: 1:07 - loss: 0.2283 - dice_coef: 0.5551 - acc: 0.495 - ETA: 49s - loss: 0.2241 - dice_coef: 0.5601 - acc: 0.492 - ETA: 31s - loss: 0.2227 - dice_coef: 0.5576 - acc: 0.49 - ETA: 13s - loss: 0.2246 - dice_coef: 0.5575 - acc: 0.4953\n",
      "Epoch 00008: ReduceLROnPlateau reducing learning rate to 1.0000000474974514e-05.\n",
      "\n",
      "Epoch 00008: val_loss did not improve from 0.40051\n",
      "408/408 [==============================] - 240s 589ms/sample - loss: 0.2293 - dice_coef: 0.5516 - acc: 0.4951 - val_loss: 0.5101 - val_dice_coef: 0.0000e+00 - val_acc: 0.4206\n"
     ]
    },
    {
     "name": "stdout",
     "output_type": "stream",
     "text": [
      "Epoch 9/100\n",
      "384/408 [===========================>..] - ETA: 3:26 - loss: 0.2652 - dice_coef: 0.4825 - acc: 0.466 - ETA: 3:15 - loss: 0.2903 - dice_coef: 0.4700 - acc: 0.506 - ETA: 2:56 - loss: 0.2361 - dice_coef: 0.5333 - acc: 0.495 - ETA: 2:37 - loss: 0.2374 - dice_coef: 0.5191 - acc: 0.506 - ETA: 2:20 - loss: 0.2514 - dice_coef: 0.5008 - acc: 0.493 - ETA: 2:00 - loss: 0.2615 - dice_coef: 0.4829 - acc: 0.501 - ETA: 1:43 - loss: 0.2549 - dice_coef: 0.5049 - acc: 0.499 - ETA: 1:25 - loss: 0.2514 - dice_coef: 0.5055 - acc: 0.495 - ETA: 1:07 - loss: 0.2442 - dice_coef: 0.5117 - acc: 0.491 - ETA: 49s - loss: 0.2523 - dice_coef: 0.5047 - acc: 0.494 - ETA: 31s - loss: 0.2400 - dice_coef: 0.5143 - acc: 0.49 - ETA: 13s - loss: 0.2406 - dice_coef: 0.5225 - acc: 0.4926\n",
      "Epoch 00009: val_loss did not improve from 0.40051\n",
      "408/408 [==============================] - 239s 585ms/sample - loss: 0.2396 - dice_coef: 0.5329 - acc: 0.4933 - val_loss: 0.5119 - val_dice_coef: 0.0000e+00 - val_acc: 0.4374\n",
      "Epoch 10/100\n",
      "384/408 [===========================>..] - ETA: 3:28 - loss: 0.1379 - dice_coef: 0.6553 - acc: 0.473 - ETA: 3:17 - loss: 0.2233 - dice_coef: 0.5759 - acc: 0.482 - ETA: 2:56 - loss: 0.2027 - dice_coef: 0.5748 - acc: 0.472 - ETA: 2:37 - loss: 0.2478 - dice_coef: 0.5156 - acc: 0.487 - ETA: 2:19 - loss: 0.2362 - dice_coef: 0.5473 - acc: 0.484 - ETA: 2:02 - loss: 0.2467 - dice_coef: 0.5383 - acc: 0.487 - ETA: 1:43 - loss: 0.2714 - dice_coef: 0.5123 - acc: 0.497 - ETA: 1:25 - loss: 0.2592 - dice_coef: 0.5250 - acc: 0.492 - ETA: 1:07 - loss: 0.2474 - dice_coef: 0.5425 - acc: 0.489 - ETA: 49s - loss: 0.2379 - dice_coef: 0.5546 - acc: 0.487 - ETA: 31s - loss: 0.2367 - dice_coef: 0.5483 - acc: 0.48 - ETA: 13s - loss: 0.2342 - dice_coef: 0.5573 - acc: 0.4894\n",
      "Epoch 00010: val_loss did not improve from 0.40051\n",
      "408/408 [==============================] - 238s 584ms/sample - loss: 0.2365 - dice_coef: 0.5560 - acc: 0.4911 - val_loss: 0.5146 - val_dice_coef: 0.0000e+00 - val_acc: 0.3982\n",
      "Epoch 11/100\n",
      "384/408 [===========================>..] - ETA: 3:27 - loss: 0.1679 - dice_coef: 0.6918 - acc: 0.487 - ETA: 3:14 - loss: 0.1575 - dice_coef: 0.7014 - acc: 0.498 - ETA: 2:55 - loss: 0.2140 - dice_coef: 0.5945 - acc: 0.512 - ETA: 2:36 - loss: 0.2518 - dice_coef: 0.5329 - acc: 0.504 - ETA: 2:18 - loss: 0.2323 - dice_coef: 0.5498 - acc: 0.495 - ETA: 2:01 - loss: 0.2471 - dice_coef: 0.5320 - acc: 0.493 - ETA: 1:42 - loss: 0.2378 - dice_coef: 0.5549 - acc: 0.494 - ETA: 1:23 - loss: 0.2337 - dice_coef: 0.5649 - acc: 0.491 - ETA: 1:06 - loss: 0.2362 - dice_coef: 0.5664 - acc: 0.492 - ETA: 47s - loss: 0.2263 - dice_coef: 0.5665 - acc: 0.487 - ETA: 30s - loss: 0.2252 - dice_coef: 0.5733 - acc: 0.48 - ETA: 12s - loss: 0.2360 - dice_coef: 0.5619 - acc: 0.4920\n",
      "Epoch 00011: ReduceLROnPlateau reducing learning rate to 1e-05.\n",
      "\n",
      "Epoch 00011: val_loss did not improve from 0.40051\n",
      "408/408 [==============================] - 227s 557ms/sample - loss: 0.2360 - dice_coef: 0.5573 - acc: 0.4919 - val_loss: 0.5148 - val_dice_coef: 0.0000e+00 - val_acc: 0.3464\n",
      "Epoch 12/100\n",
      "384/408 [===========================>..] - ETA: 3:06 - loss: 0.2065 - dice_coef: 0.5528 - acc: 0.451 - ETA: 2:50 - loss: 0.2768 - dice_coef: 0.3525 - acc: 0.416 - ETA: 2:38 - loss: 0.2585 - dice_coef: 0.4403 - acc: 0.442 - ETA: 2:21 - loss: 0.2250 - dice_coef: 0.4996 - acc: 0.451 - ETA: 2:05 - loss: 0.2307 - dice_coef: 0.4966 - acc: 0.467 - ETA: 1:49 - loss: 0.2418 - dice_coef: 0.4949 - acc: 0.476 - ETA: 1:34 - loss: 0.2461 - dice_coef: 0.4881 - acc: 0.484 - ETA: 1:20 - loss: 0.2560 - dice_coef: 0.4766 - acc: 0.489 - ETA: 1:04 - loss: 0.2542 - dice_coef: 0.4938 - acc: 0.490 - ETA: 47s - loss: 0.2545 - dice_coef: 0.4983 - acc: 0.490 - ETA: 31s - loss: 0.2508 - dice_coef: 0.5095 - acc: 0.49 - ETA: 13s - loss: 0.2523 - dice_coef: 0.5137 - acc: 0.4920\n",
      "Epoch 00012: val_loss did not improve from 0.40051\n",
      "408/408 [==============================] - 238s 584ms/sample - loss: 0.2446 - dice_coef: 0.5305 - acc: 0.4908 - val_loss: 0.5087 - val_dice_coef: 0.0000e+00 - val_acc: 0.3473\n",
      "Epoch 13/100\n",
      "384/408 [===========================>..] - ETA: 3:41 - loss: 0.2372 - dice_coef: 0.6439 - acc: 0.518 - ETA: 3:23 - loss: 0.2444 - dice_coef: 0.6120 - acc: 0.510 - ETA: 3:08 - loss: 0.2110 - dice_coef: 0.5812 - acc: 0.483 - ETA: 2:48 - loss: 0.1876 - dice_coef: 0.6357 - acc: 0.489 - ETA: 2:29 - loss: 0.1893 - dice_coef: 0.6387 - acc: 0.490 - ETA: 2:11 - loss: 0.2133 - dice_coef: 0.6102 - acc: 0.494 - ETA: 1:51 - loss: 0.2210 - dice_coef: 0.5939 - acc: 0.491 - ETA: 1:32 - loss: 0.2366 - dice_coef: 0.5682 - acc: 0.485 - ETA: 1:13 - loss: 0.2356 - dice_coef: 0.5698 - acc: 0.485 - ETA: 53s - loss: 0.2237 - dice_coef: 0.5893 - acc: 0.485 - ETA: 34s - loss: 0.2318 - dice_coef: 0.5749 - acc: 0.48 - ETA: 14s - loss: 0.2396 - dice_coef: 0.5584 - acc: 0.4856\n",
      "Epoch 00013: val_loss did not improve from 0.40051\n",
      "408/408 [==============================] - 258s 633ms/sample - loss: 0.2441 - dice_coef: 0.5562 - acc: 0.4882 - val_loss: 0.4973 - val_dice_coef: 2.2912e-06 - val_acc: 0.3496\n",
      "Epoch 14/100\n",
      "384/408 [===========================>..] - ETA: 3:43 - loss: 0.3638 - dice_coef: 0.3756 - acc: 0.535 - ETA: 3:31 - loss: 0.3025 - dice_coef: 0.4860 - acc: 0.527 - ETA: 3:11 - loss: 0.2851 - dice_coef: 0.5263 - acc: 0.511 - ETA: 2:50 - loss: 0.2830 - dice_coef: 0.5236 - acc: 0.497 - ETA: 2:32 - loss: 0.3060 - dice_coef: 0.5034 - acc: 0.498 - ETA: 2:12 - loss: 0.2825 - dice_coef: 0.5375 - acc: 0.495 - ETA: 1:52 - loss: 0.2520 - dice_coef: 0.5433 - acc: 0.485 - ETA: 1:34 - loss: 0.2414 - dice_coef: 0.5473 - acc: 0.481 - ETA: 1:14 - loss: 0.2433 - dice_coef: 0.5490 - acc: 0.487 - ETA: 53s - loss: 0.2504 - dice_coef: 0.5368 - acc: 0.493 - ETA: 34s - loss: 0.2463 - dice_coef: 0.5240 - acc: 0.48 - ETA: 14s - loss: 0.2393 - dice_coef: 0.5385 - acc: 0.4884\n",
      "Epoch 00014: val_loss did not improve from 0.40051\n",
      "408/408 [==============================] - 255s 625ms/sample - loss: 0.2410 - dice_coef: 0.5354 - acc: 0.4866 - val_loss: 0.4824 - val_dice_coef: 1.3468e-04 - val_acc: 0.3536\n",
      "Epoch 15/100\n",
      "384/408 [===========================>..] - ETA: 3:40 - loss: 0.2444 - dice_coef: 0.5401 - acc: 0.468 - ETA: 3:15 - loss: 0.2075 - dice_coef: 0.6214 - acc: 0.470 - ETA: 2:55 - loss: 0.1850 - dice_coef: 0.6439 - acc: 0.470 - ETA: 2:36 - loss: 0.1958 - dice_coef: 0.6332 - acc: 0.482 - ETA: 2:19 - loss: 0.1839 - dice_coef: 0.6522 - acc: 0.481 - ETA: 2:01 - loss: 0.1849 - dice_coef: 0.6542 - acc: 0.480 - ETA: 1:42 - loss: 0.1860 - dice_coef: 0.6399 - acc: 0.475 - ETA: 1:26 - loss: 0.1888 - dice_coef: 0.6360 - acc: 0.475 - ETA: 1:08 - loss: 0.1994 - dice_coef: 0.6266 - acc: 0.478 - ETA: 49s - loss: 0.2191 - dice_coef: 0.5911 - acc: 0.479 - ETA: 31s - loss: 0.2244 - dice_coef: 0.5825 - acc: 0.48 - ETA: 13s - loss: 0.2290 - dice_coef: 0.5728 - acc: 0.4868\n",
      "Epoch 00015: val_loss did not improve from 0.40051\n",
      "408/408 [==============================] - 242s 593ms/sample - loss: 0.2336 - dice_coef: 0.5689 - acc: 0.4879 - val_loss: 0.4661 - val_dice_coef: 0.0012 - val_acc: 0.3591\n",
      "Epoch 00015: early stopping\n"
     ]
    }
   ],
   "source": [
    "results = model.fit(X_train, y_train, batch_size=32, epochs=100, callbacks=callbacks,\n",
    "                    validation_data=(X_valid, y_valid))"
   ]
  },
  {
   "cell_type": "code",
   "execution_count": null,
   "metadata": {},
   "outputs": [],
   "source": [
    "plt.figure(figsize=(8, 8))\n",
    "plt.title(\"Learning curve\")\n",
    "plt.plot(results.history[\"loss\"], label=\"loss\")\n",
    "plt.plot(results.history[\"val_loss\"], label=\"val_loss\")\n",
    "plt.plot( np.argmin(results.history[\"val_loss\"]), np.min(results.history[\"val_loss\"]), marker=\"x\", color=\"r\", label=\"best model\")\n",
    "plt.xlabel(\"Epochs\")\n",
    "plt.ylabel(\"log_loss\")\n",
    "plt.legend();"
   ]
  },
  {
   "cell_type": "code",
   "execution_count": null,
   "metadata": {},
   "outputs": [],
   "source": [
    "# Load best model\n",
    "model.load_weights('model-unet-basic_tf2.h5')"
   ]
  },
  {
   "cell_type": "code",
   "execution_count": null,
   "metadata": {},
   "outputs": [],
   "source": [
    "model.evaluate(X_valid, y_valid, verbose=1)"
   ]
  },
  {
   "cell_type": "code",
   "execution_count": null,
   "metadata": {},
   "outputs": [],
   "source": [
    "# Predict on train, val and test\n",
    "preds_train = model.predict(X_train, verbose=1)\n",
    "preds_val = model.predict(X_valid, verbose=1)\n",
    "\n",
    "# Threshold predictions\n",
    "preds_train_t = (preds_train > 0.5).astype(np.uint8)\n",
    "preds_val_t = (preds_val > 0.5).astype(np.uint8)"
   ]
  },
  {
   "cell_type": "code",
   "execution_count": null,
   "metadata": {},
   "outputs": [],
   "source": [
    "def plot_sample(X, y, preds, binary_preds, ix=None):\n",
    "    if ix is None:\n",
    "        ix = random.randint(0, len(X))\n",
    "\n",
    "    has_mask = y[ix].max() > 0\n",
    "\n",
    "    fig, ax = plt.subplots(1, 3, figsize=(20, 10))\n",
    "    ax[0].imshow(X[ix])\n",
    "   \n",
    "    ax[0].set_title('Image')\n",
    "\n",
    "    ax[1].imshow(y[ix].squeeze())\n",
    "    ax[1].set_title('Mask')\n",
    "\n",
    "    ax[2].imshow(preds[ix].squeeze(), vmin=0, vmax=1)\n",
    "   \n",
    "    ax[2].set_title('Mask Predicted')\n",
    "    \n"
   ]
  },
  {
   "cell_type": "code",
   "execution_count": null,
   "metadata": {},
   "outputs": [],
   "source": [
    "# Check if training data looks all right\n",
    "for i in range(0,10):\n",
    "    plot_sample(X_train, y_train, preds_train, preds_train_t)"
   ]
  },
  {
   "cell_type": "code",
   "execution_count": null,
   "metadata": {},
   "outputs": [],
   "source": [
    "# Check if valid data looks all right\n",
    "plot_sample(X_valid, y_valid, preds_val, preds_val_t)"
   ]
  },
  {
   "cell_type": "code",
   "execution_count": null,
   "metadata": {},
   "outputs": [],
   "source": [
    "path_test = os.path.join( os.getcwd(), 'input',  'test')\n",
    "X_test, y_test = get_data(path_test, train=True)"
   ]
  },
  {
   "cell_type": "code",
   "execution_count": null,
   "metadata": {},
   "outputs": [],
   "source": [
    "preds_test = model.predict(X_test, verbose=1)"
   ]
  },
  {
   "cell_type": "code",
   "execution_count": null,
   "metadata": {},
   "outputs": [],
   "source": [
    "preds_test_t = (preds_test > 0.5).astype(np.uint8)"
   ]
  },
  {
   "cell_type": "code",
   "execution_count": null,
   "metadata": {},
   "outputs": [],
   "source": [
    "plot_sample(X_test, y_test, preds_test, preds_test_t, ix=15)"
   ]
  },
  {
   "cell_type": "code",
   "execution_count": null,
   "metadata": {},
   "outputs": [],
   "source": [
    "path_big = os.path.join(os.getcwd(), 'input', 'big')\n",
    "X_big, y_big = get_data(path_big, train=True)"
   ]
  },
  {
   "cell_type": "code",
   "execution_count": null,
   "metadata": {},
   "outputs": [],
   "source": [
    "preds_big = model.predict(X_big, verbose=1)"
   ]
  },
  {
   "cell_type": "code",
   "execution_count": null,
   "metadata": {},
   "outputs": [],
   "source": [
    "preds_big_t = (preds_big > 0.5).astype(np.uint8)\n",
    "plot_sample(X_big, y_big, preds_big, preds_big_t, ix=0)"
   ]
  },
  {
   "cell_type": "code",
   "execution_count": null,
   "metadata": {},
   "outputs": [],
   "source": [
    "plt.imshow(X_big[0])"
   ]
  },
  {
   "cell_type": "code",
   "execution_count": null,
   "metadata": {},
   "outputs": [],
   "source": [
    "for i in range(10):\n",
    "    plot_sample(X_test, y_test, preds_test, preds_test_t, ix=i)"
   ]
  },
  {
   "cell_type": "code",
   "execution_count": 23,
   "metadata": {},
   "outputs": [
    {
     "data": {
      "text/plain": [
       "ERROR: Timed out waiting for TensorBoard to start. It may still be running as pid 7832."
      ]
     },
     "metadata": {},
     "output_type": "display_data"
    }
   ],
   "source": [
    "%tensorboard --logdir log\\s"
   ]
  },
  {
   "cell_type": "code",
   "execution_count": null,
   "metadata": {},
   "outputs": [],
   "source": []
  }
 ],
 "metadata": {
  "kernelspec": {
   "display_name": "Python 3",
   "language": "python",
   "name": "python3"
  },
  "language_info": {
   "codemirror_mode": {
    "name": "ipython",
    "version": 3
   },
   "file_extension": ".py",
   "mimetype": "text/x-python",
   "name": "python",
   "nbconvert_exporter": "python",
   "pygments_lexer": "ipython3",
   "version": "3.6.9"
  }
 },
 "nbformat": 4,
 "nbformat_minor": 2
}
